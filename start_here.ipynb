{
 "cells": [
  {
   "attachments": {},
   "cell_type": "markdown",
   "metadata": {},
   "source": [
    "# Programação Orientada a Objetos\n",
    "Neste repo, temos uma relação de notas de classe de Aulas que mostram o funcionamento de uma linguagem orientada a objetos - neste caso, trabalharemos C/C++."
   ]
  },
  {
   "attachments": {},
   "cell_type": "markdown",
   "metadata": {},
   "source": [
    "## [Módulo 1: Primeiros passos com OO](M1/M1.ipynb)\n",
    "Neste módulo, é o primeiro contato e passos iniciais sobre como funciona uma linguagem de orientação a objeto.\n",
    "- Usando Classes\n",
    "- Usando Métodos e atributos\n",
    "- Alocação Dinâmica x Estática\n",
    "- Conceitos de Herança\n",
    "- Aplicação dos conceitos em classe simples\n"
   ]
  },
  {
   "attachments": {},
   "cell_type": "markdown",
   "metadata": {},
   "source": [
    "## [Módulo 2: Entendendo as Estruturas de OO](M2/M2.ipynb)\n",
    "Neste módulo, é o primeiro contato e passos iniciais sobre como funciona uma linguagem de orientação a objeto.\n"
   ]
  },
  {
   "attachments": {},
   "cell_type": "markdown",
   "metadata": {},
   "source": [
    "## [Módulo 3:  Mais classes e objetos em C++](M3/M3.ipynb)\n",
    "Neste módulo iremos abordar: \n",
    "- Namespace\n",
    "- uso do Friend\n",
    "- "
   ]
  },
  {
   "attachments": {},
   "cell_type": "markdown",
   "metadata": {},
   "source": [
    "## [Módulo 4: Aprofundamentos](M4/M4.ipynb)\n",
    "Neste módulo, é o primeiro contato e passos iniciais sobre como funciona uma linguagem de orientação a objeto.\n",
    "- Uso de Templates\n",
    "- Entendendo sobre Classes Abstratas\n",
    "- "
   ]
  },
  {
   "cell_type": "markdown",
   "metadata": {},
   "source": [
    "# Referencias Bibliográficas\n",
    "- Deitel & Deitel, Como Programar C++;\n"
   ]
  }
 ],
 "metadata": {
  "kernelspec": {
   "display_name": "Python 3",
   "language": "python",
   "name": "python3"
  },
  "language_info": {
   "name": "python",
   "version": "3.10.6"
  },
  "orig_nbformat": 4,
  "vscode": {
   "interpreter": {
    "hash": "916dbcbb3f70747c44a77c7bcd40155683ae19c65e1c03b4aa3499c5328201f1"
   }
  }
 },
 "nbformat": 4,
 "nbformat_minor": 2
}
