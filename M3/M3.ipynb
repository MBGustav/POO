{
 "cells": [
  {
   "cell_type": "code",
   "execution_count": null,
   "metadata": {},
   "outputs": [],
   "source": []
  },
  {
   "attachments": {},
   "cell_type": "markdown",
   "metadata": {},
   "source": [
    "## Apêndice"
   ]
  },
  {
   "attachments": {},
   "cell_type": "markdown",
   "metadata": {},
   "source": [
    "### Uso do friend\n",
    "A declaração friend foi vista durante o uso de sobrecarga de operadores, específicamente com o uso de `ostream`. Pudemos observar que esta função permitiu o acesso direto de membros privados na classe (Veja em [Desafios](../Desafios/D4/include/Complexo.h) para uso da impressão).\n",
    " \n",
    "#### 1) O uso em funções de classe\n",
    "O uso da característica `friend` em funções permite tanto a leitura quanto a escrita dos elementos `private` ou `protected` da classe declarada internamente. Isso significa que, para segurança de dados quando usado este tipo de atribuição a uma função, deve-se enviar os objetos como referencia, mas com a característica de const. Vejamos: \n",
    "\n",
    "```cpp\n",
    "//declaracao dentro da classe \n",
    "friend ostream &operator<<(ostream &os, const _objeto_);\n",
    "//enviamos o obj const porque friend permite leitura e escrita no mesmo objeto.\n",
    "```\n",
    "Nesta declaração, temos como argumento a classe ostream, que será o enviado e recebido quando chamado este tipo de método. Isso porque é uma caracteristica de C++, da qual permite a impressao direta de diversos elementos em sequencia.\n",
    "\n",
    "#### "
   ]
  },
  {
   "cell_type": "markdown",
   "metadata": {},
   "source": []
  }
 ],
 "metadata": {
  "kernelspec": {
   "display_name": "Python 3",
   "language": "python",
   "name": "python3"
  },
  "language_info": {
   "name": "python",
   "version": "3.10.6"
  },
  "orig_nbformat": 4,
  "vscode": {
   "interpreter": {
    "hash": "916dbcbb3f70747c44a77c7bcd40155683ae19c65e1c03b4aa3499c5328201f1"
   }
  }
 },
 "nbformat": 4,
 "nbformat_minor": 2
}
