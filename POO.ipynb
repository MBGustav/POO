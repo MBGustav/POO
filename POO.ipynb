{
 "cells": [
  {
   "cell_type": "markdown",
   "metadata": {},
   "source": [
    "# Programação Orientada a Objetos "
   ]
  },
  {
   "cell_type": "markdown",
   "metadata": {},
   "source": [
    "### 01.Principal base de orientação a Objeto\n",
    "\n",
    "Os principais conceitos elencados em Orientação a Objetos estão em explorar tudo como objeto. Com isso, deve-se elencar as principais questões da Linguagem - C em questão.\n",
    "\n",
    " - Tudo Pode Ser objeto\n",
    " - Algo mais..."
   ]
  },
  {
   "cell_type": "markdown",
   "metadata": {},
   "source": [
    "No exemplo abaixo, teremos uma breve apresentação de como podemos implementar uma classe simples: ponto em Float-Point"
   ]
  },
  {
   "cell_type": "code",
   "execution_count": 96,
   "metadata": {},
   "outputs": [
    {
     "name": "stdout",
     "output_type": "stream",
     "text": [
      "Overwriting 01_hello_class.hpp\n"
     ]
    }
   ],
   "source": [
    "%%writefile 01_hello_class.hpp\n",
    "\n",
    "#include <cmath>\n",
    "#include <cstdio>\n",
    "\n",
    "class point{\n",
    "  public:\n",
    "    point(float, float);\n",
    "    point(float, float, float);\n",
    "    //funcoes-membro\n",
    "    float dist_point(point P1);\n",
    "    void print();\n",
    "    void move(float x, float y);\n",
    "  private:\n",
    "  float x,y, z;\n",
    "};\n",
    "\n",
    "point::point(float x1, float y1, float z1)\n",
    "{\n",
    "  this->x = x1;\n",
    "  this->y = y1;\n",
    "  this->z = z1;\n",
    "}\n",
    "point::point(float x1, float y1)\n",
    "{\n",
    "  this->x = x1;\n",
    "  this->y = y1;\n",
    "  this->z = z;\n",
    "}\n",
    "\n",
    "float point::dist_point(point P1)\n",
    "{\n",
    "  float a,b,c;\n",
    "  a = x - P1.x; \n",
    "  b = y - P1.y;\n",
    "  c = z - P1.z;\n",
    "  \n",
    "  return sqrt(a*a + b*b + c*c);\n",
    "}\n",
    "\n",
    "void point::print()\n",
    "{\n",
    "  printf(\"(%.3f, %.3f)\", x, y);\n",
    "}\n",
    "\n",
    "void point::move(float x, float y)\n",
    "{\n",
    "  this->x = x;\n",
    "  this->y = y;\n",
    "}"
   ]
  },
  {
   "cell_type": "code",
   "execution_count": 24,
   "metadata": {},
   "outputs": [
    {
     "name": "stdout",
     "output_type": "stream",
     "text": [
      "Overwriting 01_hello_class.cpp\n"
     ]
    }
   ],
   "source": [
    "%%writefile 01_hello_class.cpp\n",
    "\n",
    "#include <cstdio> \n",
    "#include <iostream>\n",
    "#include \"01_hello_class.hpp\"\n",
    "int main()\n",
    "{\n",
    "  //Declarando um objeto: \n",
    "  point *p1 = new point(1, 1);\n",
    "  point *p2 = new point(0, 0);\n",
    "  \n",
    "  std::cout << \"oi\";\n",
    "  return 0;\n",
    "}"
   ]
  },
  {
   "cell_type": "markdown",
   "metadata": {},
   "source": [
    "Com a escrita dos arquivos acima, a criação de dois objetos (P1 e P2). temos a declaraçao de dois meios de construção: 2 pontos OU 3 pontos.\n",
    "Isso facilita na criação de objetos - essa caracteristica se chama `polimorfismo` - e sua manipulação."
   ]
  },
  {
   "cell_type": "code",
   "execution_count": 25,
   "metadata": {},
   "outputs": [
    {
     "name": "stdout",
     "output_type": "stream",
     "text": [
      "oi"
     ]
    }
   ],
   "source": [
    "!g++ -c 01_hello_class.hpp; \n",
    "!g++ -o main 01_hello_class.cpp; ./main\n"
   ]
  },
  {
   "cell_type": "markdown",
   "metadata": {},
   "source": [
    "## 02. Heranças de Classes \n",
    "Nesta aula, trabalharemos com a dinamica de tratamento de heranças de classes. Heranças servem para especializarmos classes de maneira mais específica. Ou seja, tomemos como exemplo: Professor e Aluno\n",
    "\n",
    "Oque ambos têm em comum ? São Pessoas! Com isso, sabemos que podemos englobar uma característica comum dos dois, pois: `\"Aluno é Pessoa\"` e `\"Professor é Pessoa\"`.\n",
    "\n",
    "Vejamos o exemplo a seguir (veja a definição das classes na pasta `include_02` )\n"
   ]
  },
  {
   "cell_type": "code",
   "execution_count": 32,
   "metadata": {},
   "outputs": [
    {
     "name": "stdout",
     "output_type": "stream",
     "text": [
      "Overwriting 02_heritage_class.cpp\n"
     ]
    }
   ],
   "source": [
    "%%writefile 02_heritage_class.cpp\n",
    "#include <iostream> \n",
    "\n",
    "#include \"include_02/Pessoa.hpp\"\n",
    "#include \"include_02/Aluno.hpp\"\n",
    "\n",
    "int main() {\n",
    "\n",
    "  Pessoa P(\"Joao\", 50);\n",
    "  Aluno A(\"Fulano\", 18, 587890);\n",
    "\n",
    "  P.imprime();\n",
    "  A.imprime();\n",
    "\n",
    "\n",
    "  return 0;\n",
    "}\n",
    "\n"
   ]
  },
  {
   "cell_type": "code",
   "execution_count": 33,
   "metadata": {},
   "outputs": [
    {
     "name": "stdout",
     "output_type": "stream",
     "text": [
      "Nome:  Joao\n",
      "idade: 50\n",
      "\n",
      "Impressao do tipo - Aluno\n",
      "Nome:  Fulano\n",
      "idade: 18\n",
      "RA: 587890\n",
      "\n"
     ]
    }
   ],
   "source": [
    "!g++ -o 02_heritage_class include_02/*.cpp 02_heritage_class.cpp;\n",
    "!./02_heritage_class"
   ]
  },
  {
   "cell_type": "markdown",
   "metadata": {},
   "source": [
    "### 2.1 Funcionalidades Adicionais\n",
    "\n",
    "- `static` - uma variável que pertence a classe. É uma maneira de manter o vínculo entre os objetos, caso haja necessidade de lidar simultaneamente com variaveis compartilhadas.\n",
    "\n",
    "- `const` - uma variável/método que não é possivel alterar.\n",
    "- `protected` - atributo que é visto por todas a classes herdeiras, e da própria  classe.\n"
   ]
  },
  {
   "attachments": {},
   "cell_type": "markdown",
   "metadata": {},
   "source": [
    "TODO: inserir exemplos de aula"
   ]
  },
  {
   "cell_type": "markdown",
   "metadata": {},
   "source": [
    "### 2.2 - Alocação Dinâmicas x Alocação Estática\n",
    "Quando trabalhamos com alocação estática, ao usarmos uma declaração dentro de uma função, o próprio compilador executa o destrutor \"implicitamente\". Por exemplo:\n"
   ]
  },
  {
   "cell_type": "markdown",
   "metadata": {},
   "source": [
    "```cpp \n",
    "void foo(){\n",
    "  Pessoa P(\"Joao\", 18, 545);\n",
    "  Aluno A(\"Matheus\", 18, 878676);\n",
    "  Professor Pro(\"Meirelles\", 12,231232);\n",
    "}"
   ]
  },
  {
   "cell_type": "markdown",
   "metadata": {},
   "source": [
    "Neste exemplo acima, temos que o construtor será chamado automaticamente quando finalizado o bloco da função.\n",
    "No entanto, observe o exemplo abaixo:"
   ]
  },
  {
   "cell_type": "markdown",
   "metadata": {},
   "source": [
    "```cpp\n",
    "void foo(){\n",
    "  Pessoa P     = new Pessoa(\"Joao\", 18, 545);\n",
    "  Aluno A      = new Aluno(\"Matheus\", 18, 878676);\n",
    "  Professor Pro= new Professor(\"Meirelles\", 12,231232);\n",
    "}\n"
   ]
  },
  {
   "cell_type": "markdown",
   "metadata": {},
   "source": [
    "Neste caso, temos perda de memória! Justamente por haver uma alocação dinâmica nesta função, a memória alocada para resolução desta ficará inacessível. "
   ]
  },
  {
   "attachments": {},
   "cell_type": "markdown",
   "metadata": {},
   "source": [
    "----\n",
    "# 3. Herança Múltipla\n",
    "\n",
    "\n",
    "TODO: Estudar sobre este assunto\n",
    "\n",
    "\n",
    "OBS: Isso só é possivel em C/C++\n"
   ]
  },
  {
   "attachments": {},
   "cell_type": "markdown",
   "metadata": {},
   "source": [
    "# 4. Agregação e Composição\n",
    "\n",
    "\n",
    "Agregação: \n",
    "\n",
    "\n",
    "\n",
    "`Exemplo de Composição`: Temos um carro, quando o desmontamos ainda temos o motor, o pneu etc. A ideia é que os objetos ainda existem, mesmo depois de não ainda existir.\n",
    "Resumindo: Parte depende do todo e nao pode ser partilhado por outros.\n",
    "\n",
    "\n",
    "`Exemplo de Agregação`: Temos um time, \n",
    "Resumindo: parte independe do todo, podendo ser partilhado por outras partes. \n",
    "\n",
    "Oque é? \n",
    "\n",
    "todo-parte"
   ]
  },
  {
   "attachments": {},
   "cell_type": "markdown",
   "metadata": {},
   "source": [
    "<img src=\"imgs/rel.png\">"
   ]
  },
  {
   "attachments": {},
   "cell_type": "markdown",
   "metadata": {},
   "source": [
    "## 4.1 Exemplo de Agregação\n",
    "Neste exemplo, temos um exemplo de time em `time.h`, que é baseado nos seguintes objetos e atributos:\n",
    "```cpp\n",
    "class time{\n",
    "    std::string nome, tecnico; \n",
    "     //Temos de 0 .. 22 jogadores\n",
    "    atleta elenco[22]; //Alocação Estatica.. [0..22]\n",
    "}\n",
    "__(Aqui em cima está errado =D, precisamos passar por ponteiro)__ (*)  \n",
    "\n",
    "class Atleta{\n",
    "    string nome; \n",
    "    int idade; \n",
    "    string posicao; \n",
    "    Time *time;\n",
    "}\n",
    "```\n",
    "\n",
    "Temos Uma relação de Agregação, visto que tanto o time quanto o jogador estão relacionados entre si. Veremos adiante as principais diferenças entre si.\n",
    "\n",
    "```cpp\n",
    "void Time::adicionaJogador(int num, Jogador *jogador){\n",
    "    elenco[num -1] = jogador;\n",
    "    jogador->setTime(this);\n",
    "}\n",
    "```\n",
    "?? qual a principal diferença entre a herança, agregação e composição ??\n",
    "\n",
    "(*) Como C/C++ possibilita cópia de valores & passagem por referencia, neste caso acima temos uma cópia de valores. Ou seja, temos apenas uma cópia dos valores e, caso haja alteração dos dados do outro lado do ponteiro, não haverá mudança dos dados. \n",
    "(**) This é sempre um ponteiro, que retorna o endereço da classe.\n",
    "?? qual a diferença entre `NULL` e `nullptr`?"
   ]
  },
  {
   "cell_type": "code",
   "execution_count": null,
   "metadata": {},
   "outputs": [],
   "source": [
    "#Implementação do time\n",
    "%pycat includes/Time.h"
   ]
  },
  {
   "attachments": {},
   "cell_type": "markdown",
   "metadata": {},
   "source": [
    "## 4.2 Exemplo de Composição\n",
    "< incluir imagem de Composição >\n",
    "Neste exemplo, temos uma relação entre Universidade e Departamento:\n",
    "- o Depto. de Computação, por exemplo, nao pode existir sem a Universidade\n",
    "- Assim como a Universidade não existe sem o Departamento.\n",
    "\n",
    "Vejamos parte da implementação `Departamento.h`:\n",
    "\n",
    "```cpp\n",
    "class Departamento{\n",
    "private:\n",
    "    Universidade *Universidade;\n",
    "    int qtd, max;\n",
    "    //(...)\n",
    "public:\n",
    "    //Construtor\n",
    "    Departamento(string nome, string sigla, Universidade *Univ);\n",
    "}\n",
    "\n",
    "```\n",
    "Podemos notar que a partir de sua criação, temos a declaração da Universidade a partir do Construtor, porque ?(*)\n",
    "\n",
    "\n",
    "\n",
    "### 4.2.1 Observações & Anotações\n",
    "\n",
    "(*) Temos que enviar (por referencia) o objeto Universidade justamente por conta da dependencia entre eles, como é visto na imagem inicial.\n",
    "\n",
    "(**) Caso nao se lembre, na linguagem C++ temos a alocação feita por meio do `new`:\n",
    "```cpp\n",
    "// exemplo Inteiro\n",
    "    int size;\n",
    "    int *x2 = new int[size];\n",
    "//exemplo de Vetor de Array\n",
    "    struct_name **var;\n",
    "    struct_name x2 = new struct_name*[size];\n",
    "\n",
    "```\n",
    "Isso é importante saber porque sempre fazemos referencia para objetos por referencia e em certos momentos precisamos fazer alocação dinâmica (vide arquivo < dinamico >)"
   ]
  },
  {
   "cell_type": "code",
   "execution_count": null,
   "metadata": {},
   "outputs": [],
   "source": [
    "#Veja a implementação do Header - <TODO: nome da bib de associação>\n",
    "#TODO: inserir arquivo e usar pycat"
   ]
  },
  {
   "attachments": {},
   "cell_type": "markdown",
   "metadata": {},
   "source": [
    "# 4.3 Exemplo de Associação\n",
    "Quase sempre temos relacionamentos por associação ou herança. Alguns exemplos clássicos são:\n",
    "- O carro é __associado__ a uma pessoa.\n",
    "- O aluno é __associado__ a um curso.\n",
    "\n",
    "##\n",
    "\n"
   ]
  },
  {
   "cell_type": "code",
   "execution_count": null,
   "metadata": {},
   "outputs": [],
   "source": [
    "#Veja a implementação do Header - <TODO:nome da bib de associação> \n"
   ]
  },
  {
   "cell_type": "markdown",
   "metadata": {},
   "source": [
    "# Referencias Bibliográficas\n",
    "- Deitel & Deitel, Como Programar C++;\n"
   ]
  },
  {
   "cell_type": "markdown",
   "metadata": {},
   "source": []
  }
 ],
 "metadata": {
  "kernelspec": {
   "display_name": "Python 3 (ipykernel)",
   "language": "python",
   "name": "python3"
  },
  "language_info": {
   "codemirror_mode": {
    "name": "ipython",
    "version": 3
   },
   "file_extension": ".py",
   "mimetype": "text/x-python",
   "name": "python",
   "nbconvert_exporter": "python",
   "pygments_lexer": "ipython3",
   "version": "3.10.6"
  },
  "orig_nbformat": 4,
  "vscode": {
   "interpreter": {
    "hash": "31f2aee4e71d21fbe5cf8b01ff0e069b9275f58929596ceb00d14d90e3e16cd6"
   }
  }
 },
 "nbformat": 4,
 "nbformat_minor": 2
}
