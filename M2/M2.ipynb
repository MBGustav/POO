{
 "cells": [
  {
   "attachments": {},
   "cell_type": "markdown",
   "metadata": {},
   "source": [
    "# Módulo 02\n",
    "Nesta aula, aprenderemos sobre o funcionamento do relacionamento de classes, procedimentos de alocação dinamica e sobrecarga de métodos e entender melhor como funciona alguns métodos especiais (friend). Resumindo... \n",
    "\n",
    "- Metodos estáticos vs. Métodos comuns \n",
    "- Overriding & Overloading\n",
    "- Relacionamento de Classes: composição, agregação e composição\n",
    "- Alocação Dinâmica\n",
    "- Sobrecarga de métodos e operadores (friend)\n",
    "- Herança Múltipla(Diamond Problem)\n"
   ]
  },
  {
   "attachments": {},
   "cell_type": "markdown",
   "metadata": {},
   "source": [
    "# Métodos Estaticos e Métodos comuns"
   ]
  },
  {
   "attachments": {},
   "cell_type": "markdown",
   "metadata": {},
   "source": [
    "## Namespace\n",
    "O Namespace tem por objetivo guardarmos estruturas, de modo a organizar nossas classes em \"fichamentos\" que, mesmo usando classes identicas, podemos usar a estrutura `Namespace`, que diferencia essas mesmas estruturas. Por exemplo: \n"
   ]
  },
  {
   "cell_type": "code",
   "execution_count": 1,
   "metadata": {},
   "outputs": [
    {
     "name": "stdout",
     "output_type": "stream",
     "text": [
      "#ifndef PESSOA1_H\t\t\t\t\t      |\t#ifndef PESSOA2_H\n",
      "#define PESSOA1_H\t\t\t\t\t      |\t#define PESSOA2_H\n",
      "\n",
      "#include <string>\t\t\t\t\t\t#include <string>\n",
      "#include <iostream>\t\t\t\t\t\t#include <iostream>\n",
      "using namespace std;\t\t\t\t\t\tusing namespace std;\n",
      "\n",
      "namespace ns1 {\t\t\t\t\t\t      |\tnamespace ns2 {\n",
      "\n",
      "    class Pessoa {\t\t\t\t\t\t    class Pessoa {\n",
      "    public:\t\t\t\t\t\t\t    public:\n",
      "        Pessoa(string nome, int idade);\t\t\t      |\t        Pessoa(string nome, string endereco);\n",
      "        void imprime() const;\t\t\t\t\t        void imprime() const;\n",
      "    private:\t\t\t\t\t\t\t    private:\n",
      "        string nome;\t\t\t\t\t\t        string nome;\n",
      "        int idade;\t\t\t\t\t      |\t        string endereco;\n",
      "    };\t\t\t\t\t\t\t\t    };\n",
      "\t\t\t\t\t\t\t      <\n",
      "}\t\t\t\t\t\t\t\t}\n",
      "\n",
      "#endif /* PESSOA1_H */\t\t\t\t\t      |\t#endif /* PESSOA2_H */"
     ]
    }
   ],
   "source": [
    "!diff include/Pessoa1.h include/Pessoa2.h --side-by-side"
   ]
  },
  {
   "attachments": {},
   "cell_type": "markdown",
   "metadata": {},
   "source": [
    "Note que os Namespaces podem ser usados para declarar classes parecidas, mas que tem funcionalidades diferentes. Note: \n",
    "- __Pessoa(string nome, int idade);__\n",
    "- __Pessoa(string nome, string endereco);__\n",
    "\n",
    "Podemos ver que temos atributos distintos, construtores distintos e nomes de classes iguais. Caso nao houvese o uso do Namespace para declaração dessas duas classes, haveria erro de compilação. Resumindo, o uso do Namespace tem como objetivo organizar as estruturas de classe abrindo a possibilidade de uso de nomes ja utilizados em outras classes, permitindo criar sua própria configuração.\n"
   ]
  },
  {
   "attachments": {},
   "cell_type": "markdown",
   "metadata": {},
   "source": [
    "## Quando devemos usar o Namespace ? \n"
   ]
  },
  {
   "cell_type": "markdown",
   "metadata": {},
   "source": []
  }
 ],
 "metadata": {
  "kernelspec": {
   "display_name": "Python 3",
   "language": "python",
   "name": "python3"
  },
  "language_info": {
   "codemirror_mode": {
    "name": "ipython",
    "version": 3
   },
   "file_extension": ".py",
   "mimetype": "text/x-python",
   "name": "python",
   "nbconvert_exporter": "python",
   "pygments_lexer": "ipython3",
   "version": "3.10.6"
  },
  "orig_nbformat": 4,
  "vscode": {
   "interpreter": {
    "hash": "916dbcbb3f70747c44a77c7bcd40155683ae19c65e1c03b4aa3499c5328201f1"
   }
  }
 },
 "nbformat": 4,
 "nbformat_minor": 2
}
