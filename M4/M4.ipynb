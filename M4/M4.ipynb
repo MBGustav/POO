{
 "cells": [
  {
   "attachments": {},
   "cell_type": "markdown",
   "metadata": {},
   "source": [
    "# Titulo -\n",
    "\n"
   ]
  },
  {
   "attachments": {},
   "cell_type": "markdown",
   "metadata": {},
   "source": [
    "## Classes abstratas \n",
    "A ideia para uso deste tipo de classe, é quando não podemos ter uma definição de objeto pela classe pai, mas apenas pelas classes filhas. Por exemplo, podemos ter uma empresa que se trabalha _somente_ enfermeiros e médicos. Com isso, desenvolvemos a seguinte estrutura: "
   ]
  },
  {
   "attachments": {},
   "cell_type": "markdown",
   "metadata": {},
   "source": [
    "## < INCLUIR IMAGEM >"
   ]
  },
  {
   "cell_type": "code",
   "execution_count": 1,
   "metadata": {},
   "outputs": [
    {
     "name": "stdout",
     "output_type": "stream",
     "text": [
      "\u001b[0;31m#include <iostream>\u001b[0m\u001b[0;34m\u001b[0m\n",
      "\u001b[0;34m\u001b[0m\u001b[0;31m#include <string>\u001b[0m\u001b[0;34m\u001b[0m\n",
      "\u001b[0;34m\u001b[0m\u001b[0;34m\u001b[0m\n",
      "\u001b[0;34m\u001b[0m\u001b[0musing\u001b[0m \u001b[0mstd\u001b[0m\u001b[0;34m:\u001b[0m\u001b[0;34m:\u001b[0m\u001b[0mstring\u001b[0m\u001b[0;34m;\u001b[0m\u001b[0;34m\u001b[0m\n",
      "\u001b[0;34m\u001b[0m\u001b[0musing\u001b[0m \u001b[0mstd\u001b[0m\u001b[0;34m:\u001b[0m\u001b[0;34m:\u001b[0m\u001b[0mcout\u001b[0m\u001b[0;34m,\u001b[0m \u001b[0mstd\u001b[0m\u001b[0;34m:\u001b[0m\u001b[0;34m:\u001b[0m\u001b[0mendl\u001b[0m\u001b[0;34m;\u001b[0m\u001b[0;34m\u001b[0m\n",
      "\u001b[0;34m\u001b[0m\u001b[0;34m\u001b[0m\n",
      "\u001b[0;34m\u001b[0m\u001b[0;34m\u001b[0m\n",
      "\u001b[0;34m\u001b[0m\u001b[0;32mclass\u001b[0m \u001b[0mAnimal\u001b[0m\u001b[0;34m\u001b[0m\n",
      "\u001b[0;34m\u001b[0m\u001b[0;34m{\u001b[0m\u001b[0;34m\u001b[0m\n",
      "\u001b[0;34m\u001b[0m\u001b[0mprivate\u001b[0m\u001b[0;34m:\u001b[0m\u001b[0;34m\u001b[0m\n",
      "\u001b[0;34m\u001b[0m    \u001b[0mstring\u001b[0m \u001b[0mNome\u001b[0m\u001b[0;34m;\u001b[0m\u001b[0;34m\u001b[0m\n",
      "\u001b[0;34m\u001b[0m    \u001b[0mdouble\u001b[0m \u001b[0mPeso\u001b[0m\u001b[0;34m;\u001b[0m \u001b[0;34m\u001b[0m\n",
      "\u001b[0;34m\u001b[0m\u001b[0mpublic\u001b[0m\u001b[0;34m:\u001b[0m\u001b[0;34m\u001b[0m\n",
      "\u001b[0;34m\u001b[0m    \u001b[0mAnimal\u001b[0m\u001b[0;34m(\u001b[0m\u001b[0mstring\u001b[0m\u001b[0;34m,\u001b[0m \u001b[0mdouble\u001b[0m\u001b[0;34m)\u001b[0m\u001b[0;34m;\u001b[0m\u001b[0;34m\u001b[0m\n",
      "\u001b[0;34m\u001b[0m    \u001b[0;34m~\u001b[0m\u001b[0mAnimal\u001b[0m\u001b[0;34m(\u001b[0m\u001b[0;34m)\u001b[0m\u001b[0;34m;\u001b[0m\u001b[0;34m\u001b[0m\n",
      "\u001b[0;34m\u001b[0m    \u001b[0mstring\u001b[0m \u001b[0mgetNome\u001b[0m\u001b[0;34m(\u001b[0m\u001b[0;34m)\u001b[0m\u001b[0;34m;\u001b[0m \u001b[0;34m\u001b[0m\n",
      "\u001b[0;34m\u001b[0m    \u001b[0mvoid\u001b[0m \u001b[0msetNome\u001b[0m\u001b[0;34m(\u001b[0m\u001b[0mstring\u001b[0m\u001b[0;34m)\u001b[0m\u001b[0;34m;\u001b[0m\u001b[0;34m\u001b[0m\n",
      "\u001b[0;34m\u001b[0m    \u001b[0mvoid\u001b[0m \u001b[0msetPeso\u001b[0m\u001b[0;34m(\u001b[0m\u001b[0mdouble\u001b[0m\u001b[0;34m)\u001b[0m\u001b[0;34m;\u001b[0m\u001b[0;34m\u001b[0m\n",
      "\u001b[0;34m\u001b[0m\u001b[0;34m\u001b[0m\n",
      "\u001b[0;34m\u001b[0m    \u001b[0mdouble\u001b[0m \u001b[0mgetPeso\u001b[0m\u001b[0;34m(\u001b[0m\u001b[0;34m)\u001b[0m\u001b[0;34m;\u001b[0m\u001b[0;34m\u001b[0m\n",
      "\u001b[0;34m\u001b[0m    \u001b[0mvirtual\u001b[0m \u001b[0mstring\u001b[0m \u001b[0mgetEspecie\u001b[0m\u001b[0;34m(\u001b[0m\u001b[0;34m)\u001b[0m \u001b[0mconst\u001b[0m \u001b[0;34m=\u001b[0m \u001b[0;36m0\u001b[0m\u001b[0;34m;\u001b[0m\u001b[0;34m\u001b[0m\n",
      "\u001b[0;34m\u001b[0m    \u001b[0mvirtual\u001b[0m \u001b[0mvoid\u001b[0m \u001b[0mimprime\u001b[0m\u001b[0;34m(\u001b[0m\u001b[0;34m)\u001b[0m\u001b[0;34m;\u001b[0m\u001b[0;34m\u001b[0m\n",
      "\u001b[0;34m\u001b[0m\u001b[0;34m}\u001b[0m\u001b[0;34m;\u001b[0m\u001b[0;34m\u001b[0m\n",
      "\u001b[0;34m\u001b[0m\u001b[0;34m\u001b[0m\n",
      "\u001b[0;34m\u001b[0m\u001b[0mAnimal\u001b[0m\u001b[0;34m:\u001b[0m\u001b[0;34m:\u001b[0m\u001b[0mAnimal\u001b[0m\u001b[0;34m(\u001b[0m\u001b[0mstring\u001b[0m \u001b[0mN\u001b[0m\u001b[0;34m,\u001b[0m \u001b[0mdouble\u001b[0m \u001b[0mP\u001b[0m\u001b[0;34m)\u001b[0m\u001b[0;34m:\u001b[0m \u001b[0mNome\u001b[0m\u001b[0;34m(\u001b[0m\u001b[0mN\u001b[0m\u001b[0;34m)\u001b[0m\u001b[0;34m,\u001b[0m \u001b[0mPeso\u001b[0m\u001b[0;34m(\u001b[0m\u001b[0mP\u001b[0m\u001b[0;34m)\u001b[0m\u001b[0;34m{\u001b[0m\u001b[0;34m}\u001b[0m\u001b[0;34m\u001b[0m\n",
      "\u001b[0;34m\u001b[0m\u001b[0;34m\u001b[0m\n",
      "\u001b[0;34m\u001b[0m\u001b[0mAnimal\u001b[0m\u001b[0;34m:\u001b[0m\u001b[0;34m:\u001b[0m\u001b[0;34m~\u001b[0m\u001b[0mAnimal\u001b[0m\u001b[0;34m(\u001b[0m\u001b[0;34m)\u001b[0m\u001b[0;34m{\u001b[0m\u001b[0;34m\u001b[0m\n",
      "\u001b[0;34m\u001b[0m\u001b[0;34m\u001b[0m\n",
      "\u001b[0;34m\u001b[0m\u001b[0;34m}\u001b[0m\u001b[0;34m\u001b[0m\n",
      "\u001b[0;34m\u001b[0m\u001b[0mvoid\u001b[0m \u001b[0mAnimal\u001b[0m\u001b[0;34m:\u001b[0m\u001b[0;34m:\u001b[0m\u001b[0msetNome\u001b[0m\u001b[0;34m(\u001b[0m\u001b[0mstring\u001b[0m \u001b[0mN\u001b[0m\u001b[0;34m)\u001b[0m\u001b[0;34m{\u001b[0m\u001b[0mthis\u001b[0m\u001b[0;34m->\u001b[0m\u001b[0mNome\u001b[0m \u001b[0;34m=\u001b[0m \u001b[0mN\u001b[0m\u001b[0;34m;\u001b[0m\u001b[0;34m}\u001b[0m\u001b[0;34m\u001b[0m\n",
      "\u001b[0;34m\u001b[0m\u001b[0mvoid\u001b[0m \u001b[0mAnimal\u001b[0m\u001b[0;34m:\u001b[0m\u001b[0;34m:\u001b[0m\u001b[0msetPeso\u001b[0m\u001b[0;34m(\u001b[0m\u001b[0mdouble\u001b[0m \u001b[0mN\u001b[0m\u001b[0;34m)\u001b[0m\u001b[0;34m{\u001b[0m\u001b[0mthis\u001b[0m\u001b[0;34m->\u001b[0m\u001b[0mPeso\u001b[0m \u001b[0;34m=\u001b[0m \u001b[0mN\u001b[0m\u001b[0;34m;\u001b[0m\u001b[0;34m}\u001b[0m\u001b[0;34m\u001b[0m\n",
      "\u001b[0;34m\u001b[0m\u001b[0;34m\u001b[0m\n",
      "\u001b[0;34m\u001b[0m\u001b[0mstring\u001b[0m \u001b[0mAnimal\u001b[0m\u001b[0;34m:\u001b[0m\u001b[0;34m:\u001b[0m\u001b[0mgetNome\u001b[0m\u001b[0;34m(\u001b[0m\u001b[0;34m)\u001b[0m\u001b[0;34m{\u001b[0m\u001b[0;32mreturn\u001b[0m \u001b[0mthis\u001b[0m\u001b[0;34m->\u001b[0m\u001b[0mNome\u001b[0m\u001b[0;34m;\u001b[0m\u001b[0;34m}\u001b[0m \u001b[0;34m\u001b[0m\n",
      "\u001b[0;34m\u001b[0m\u001b[0mdouble\u001b[0m \u001b[0mAnimal\u001b[0m\u001b[0;34m:\u001b[0m\u001b[0;34m:\u001b[0m\u001b[0mgetPeso\u001b[0m\u001b[0;34m(\u001b[0m\u001b[0;34m)\u001b[0m\u001b[0;34m{\u001b[0m\u001b[0;32mreturn\u001b[0m \u001b[0mthis\u001b[0m\u001b[0;34m->\u001b[0m\u001b[0mPeso\u001b[0m\u001b[0;34m;\u001b[0m\u001b[0;34m}\u001b[0m \u001b[0;34m\u001b[0m\n",
      "\u001b[0;34m\u001b[0m\u001b[0;34m\u001b[0m\n",
      "\u001b[0;34m\u001b[0m\u001b[0;34m\u001b[0m\n",
      "\u001b[0;34m\u001b[0m\u001b[0mvoid\u001b[0m \u001b[0mAnimal\u001b[0m\u001b[0;34m:\u001b[0m\u001b[0;34m:\u001b[0m\u001b[0mimprime\u001b[0m\u001b[0;34m(\u001b[0m\u001b[0;34m)\u001b[0m\u001b[0;34m{\u001b[0m\u001b[0;34m\u001b[0m\n",
      "\u001b[0;34m\u001b[0m    \u001b[0mcout\u001b[0m \u001b[0;34m<<\u001b[0m \u001b[0;34m\"Especie \"\u001b[0m \u001b[0;34m<<\u001b[0m \u001b[0mthis\u001b[0m\u001b[0;34m->\u001b[0m\u001b[0mgetEspecie\u001b[0m\u001b[0;34m(\u001b[0m\u001b[0;34m)\u001b[0m \u001b[0;34m<<\u001b[0m \u001b[0mendl\u001b[0m\u001b[0;34m;\u001b[0m\u001b[0;34m\u001b[0m\n",
      "\u001b[0;34m\u001b[0m    \u001b[0mcout\u001b[0m \u001b[0;34m<<\u001b[0m \u001b[0;34m\"Nome \"\u001b[0m \u001b[0;34m<<\u001b[0m \u001b[0mthis\u001b[0m\u001b[0;34m->\u001b[0m\u001b[0mgetNome\u001b[0m\u001b[0;34m(\u001b[0m\u001b[0;34m)\u001b[0m \u001b[0;34m<<\u001b[0m \u001b[0mendl\u001b[0m\u001b[0;34m;\u001b[0m\u001b[0;34m\u001b[0m\n",
      "\u001b[0;34m\u001b[0m    \u001b[0mcout\u001b[0m \u001b[0;34m<<\u001b[0m \u001b[0;34m\"Peso \"\u001b[0m \u001b[0;34m<<\u001b[0m \u001b[0mthis\u001b[0m\u001b[0;34m->\u001b[0m\u001b[0mgetPeso\u001b[0m\u001b[0;34m(\u001b[0m\u001b[0;34m)\u001b[0m \u001b[0;34m<<\u001b[0m \u001b[0mendl\u001b[0m\u001b[0;34m;\u001b[0m \u001b[0;34m\u001b[0m\n",
      "\u001b[0;34m\u001b[0m\u001b[0;34m}\u001b[0m\u001b[0;34m\u001b[0m\u001b[0;34m\u001b[0m\u001b[0m\n"
     ]
    }
   ],
   "source": [
    "%pycat include/Animal.h\n"
   ]
  },
  {
   "attachments": {},
   "cell_type": "markdown",
   "metadata": {},
   "source": [
    "## Qual a função de Classe Abstrata ? \n",
    "Classes abstratas tem por objetivo ser um modelo de classe para suas herdeiras. Ou seja, ao usarmos uma classe abstrata, temos que a \"abstração\" é um molde inicial para suas herdeiras. Vejamos com um exemplo como isso funciona:\n",
    "\n",
    "```\n",
    "                   .-> |    Medico    |\n",
    "|Funcionario|------|\n",
    "                   '-> |  Enfermeiro  |\n",
    "\n",
    "```\n",
    "Lembrando que a classe é abstrata que contém métodos abstratos. Entretanto, ela pode conter métodos concretos.\n",
    "\n",
    "\n"
   ]
  },
  {
   "cell_type": "code",
   "execution_count": 1,
   "metadata": {},
   "outputs": [
    {
     "name": "stdout",
     "output_type": "stream",
     "text": [
      "\u001b[0;34m\u001b[0m\u001b[0m\n"
     ]
    }
   ],
   "source": [
    "%pycat include/abstract.cpp"
   ]
  },
  {
   "attachments": {},
   "cell_type": "markdown",
   "metadata": {},
   "source": [
    "Esse modelo de classe __não pode__ ser instanciada por si só. Isso porque, como seu nome já diz, é abstrata. A ideia principal da elaboração da classe abstrata é trazer a ideia do que todos seus herdeiros devem possui em sua construção. \n",
    "\n",
    "Por exemplo, temos a ideia abstrata do que um objeto voador pode ter. Por exemplo, se temos um avião e um pássaro, os dois possuem a ideia de que podem voar. Observe abaixo: \n",
    "\n",
    "<img src='img/UML.png'>\n",
    "\n",
    "O __A__ é um identificador de classe abstrata, que facilita a identificação desta. Agora vejamos como é a declaração dessas classes: \n"
   ]
  },
  {
   "cell_type": "code",
   "execution_count": 11,
   "metadata": {},
   "outputs": [
    {
     "name": "stdout",
     "output_type": "stream",
     "text": [
      "#ifndef VOADOR_H\t\t\t\t\t      |\t#ifndef MEIODETRANSPORTE_H\n",
      "#define VOADOR_H\t\t\t\t\t      |\t#define MEIODETRANSPORTE_H\n",
      "\n",
      "namespace poo {\t\t\t\t\t\t\tnamespace poo {\n",
      "    class Voador {\t\t\t\t\t      |\n",
      "        public:\t\t\t\t\t\t      |\t    class MeioDeTransporte {\n",
      "        virtual void decolar() = 0;\t\t\t      |\t    public:\n",
      "        virtual void aterissar() = 0;\t\t\t      |\t        virtual void subir() = 0;\n",
      "\t\t\t\t\t\t\t      >\t        virtual void descer() = 0;\n",
      "    };\t\t\t\t\t\t\t\t    };\n",
      "\t\t\t\t\t\t\t      >\t    \n",
      "}\t\t\t\t\t\t\t\t}\n",
      "\n",
      "#endif /* VOADOR_H */\t\t\t\t\t      \\\t#endif /* MEIODETRANSPORTE_H */\n"
     ]
    }
   ],
   "source": [
    "#Declaração de Classes Abstratas -- nao existe .cpp porque nenhuma delas possui função concreta ! \n",
    "!diff --side-by-side include/Voador.h include/MeioDeTransporte.h"
   ]
  },
  {
   "cell_type": "code",
   "execution_count": 10,
   "metadata": {},
   "outputs": [
    {
     "name": "stdout",
     "output_type": "stream",
     "text": [
      "#include \"Aviao.h\"\t\t\t\t\t      |\t#ifndef AVIAO_H\n",
      "#include <iostream>\t\t\t\t\t      |\t#define AVIAO_H\n",
      "using namespace std;\t\t\t\t\t      <\n",
      "\n",
      "namespace poo {\t\t\t\t\t\t      |\t#include \"MeioDeTransporte.h\"\n",
      "\t\t\t\t\t\t\t      >\t#include \"Voador.h\"\n",
      "\n",
      "    void Aviao::decolar() {\t\t\t\t      |\tnamespace poo {\n",
      "        cout << \"Liga as turbinas e levanta voo\" << endl;     <\n",
      "    }\t\t\t\t\t\t\t      <\n",
      "\n",
      "    void Aviao::aterissar() {\t\t\t\t      |\t    class Aviao : public Voador, public MeioDeTransporte {\n",
      "        cout << \"Desce o trem de pouso e freia\" << endl;      |\t    public:\n",
      "    }\t\t\t\t\t\t\t      |\t        virtual void decolar();\n",
      "\t\t\t\t\t\t\t      >\t        virtual void aterissar();\n",
      "\t\t\t\t\t\t\t      >\t        virtual void subir();\n",
      "\t\t\t\t\t\t\t      >\t        virtual void descer();\n",
      "\t\t\t\t\t\t\t      >\t    };\n",
      "\n",
      "    void Aviao::subir() {\t\t\t\t      |\t}\n",
      "        cout << \"Faz check-in e embarca\" << endl;\t      <\n",
      "    }\t\t\t\t\t\t\t      <\n",
      "\n",
      "    void Aviao::descer() {\t\t\t\t      |\t#endif /* AVIAO_H */\n",
      "        cout << \"Desembarca e pega as malas\" << endl;\t      <\n",
      "    }\t\t\t\t\t\t\t      <\n",
      "    \t\t\t\t\t\t\t      <\n",
      "}\t\t\t\t\t\t\t      <"
     ]
    }
   ],
   "source": [
    "!diff --side-by-side include/Aviao.cpp include/Aviao.h"
   ]
  },
  {
   "cell_type": "code",
   "execution_count": 6,
   "metadata": {},
   "outputs": [
    {
     "name": "stdout",
     "output_type": "stream",
     "text": [
      "\u001b[0;31m#ifndef MEIODETRANSPORTE_H\u001b[0m\u001b[0;34m\u001b[0m\n",
      "\u001b[0;34m\u001b[0m\u001b[0;31m#define MEIODETRANSPORTE_H\u001b[0m\u001b[0;34m\u001b[0m\n",
      "\u001b[0;34m\u001b[0m\u001b[0;34m\u001b[0m\n",
      "\u001b[0;34m\u001b[0m\u001b[0mnamespace\u001b[0m \u001b[0mpoo\u001b[0m \u001b[0;34m{\u001b[0m\u001b[0;34m\u001b[0m\n",
      "\u001b[0;34m\u001b[0m\u001b[0;34m\u001b[0m\n",
      "\u001b[0;34m\u001b[0m    \u001b[0;32mclass\u001b[0m \u001b[0mMeioDeTransporte\u001b[0m \u001b[0;34m{\u001b[0m\u001b[0;34m\u001b[0m\n",
      "\u001b[0;34m\u001b[0m    \u001b[0mpublic\u001b[0m\u001b[0;34m:\u001b[0m\u001b[0;34m\u001b[0m\n",
      "\u001b[0;34m\u001b[0m        \u001b[0mvirtual\u001b[0m \u001b[0mvoid\u001b[0m \u001b[0msubir\u001b[0m\u001b[0;34m(\u001b[0m\u001b[0;34m)\u001b[0m \u001b[0;34m=\u001b[0m \u001b[0;36m0\u001b[0m\u001b[0;34m;\u001b[0m\u001b[0;34m\u001b[0m\n",
      "\u001b[0;34m\u001b[0m        \u001b[0mvirtual\u001b[0m \u001b[0mvoid\u001b[0m \u001b[0mdescer\u001b[0m\u001b[0;34m(\u001b[0m\u001b[0;34m)\u001b[0m \u001b[0;34m=\u001b[0m \u001b[0;36m0\u001b[0m\u001b[0;34m;\u001b[0m\u001b[0;34m\u001b[0m\n",
      "\u001b[0;34m\u001b[0m    \u001b[0;34m}\u001b[0m\u001b[0;34m;\u001b[0m\u001b[0;34m\u001b[0m\n",
      "\u001b[0;34m\u001b[0m    \u001b[0;34m\u001b[0m\n",
      "\u001b[0;34m\u001b[0m\u001b[0;34m}\u001b[0m\u001b[0;34m\u001b[0m\n",
      "\u001b[0;34m\u001b[0m\u001b[0;34m\u001b[0m\n",
      "\u001b[0;34m\u001b[0m\u001b[0;31m#endif /* MEIODETRANSPORTE_H */\u001b[0m\u001b[0;34m\u001b[0m\u001b[0;34m\u001b[0m\u001b[0m\n"
     ]
    }
   ],
   "source": []
  },
  {
   "attachments": {},
   "cell_type": "markdown",
   "metadata": {},
   "source": [
    "Podemos observar que para declaração de funções abstratas, seu modelo é ``` <data_type> <func_name>() = 0; ```. É importante ressaltar que a não declaração desta função impede a compilação do arquivo, pois durante o momento de linkagem, o compilador não encontra nenhuma função correspondente.\n",
    "\n",
    "\n",
    "\n",
    "\n",
    "\n",
    "\n",
    "\n",
    "----"
   ]
  },
  {
   "attachments": {},
   "cell_type": "markdown",
   "metadata": {},
   "source": [
    "### Informações Adicionais\n",
    "\n",
    "Classes abstratas é um meio de contornar o problema de Herança Múltipla. \n",
    "Como as classes abstratas não possuem métodos concretos em certos métodos, as suas declarações devem ser feitas na classe herdeira. Ou seja, se temos um caso de diamante a classe que herda de dois pais, será obrigatório que essa classe filha implemente os métodos abstratos pendentes de seus respectivos pais. \n",
    "\n",
    "É importante ressaltar que em outras linguagens, pode haver "
   ]
  }
 ],
 "metadata": {
  "kernelspec": {
   "display_name": "Python 3",
   "language": "python",
   "name": "python3"
  },
  "language_info": {
   "codemirror_mode": {
    "name": "ipython",
    "version": 3
   },
   "file_extension": ".py",
   "mimetype": "text/x-python",
   "name": "python",
   "nbconvert_exporter": "python",
   "pygments_lexer": "ipython3",
   "version": "3.10.6"
  },
  "orig_nbformat": 4,
  "vscode": {
   "interpreter": {
    "hash": "916dbcbb3f70747c44a77c7bcd40155683ae19c65e1c03b4aa3499c5328201f1"
   }
  }
 },
 "nbformat": 4,
 "nbformat_minor": 2
}
